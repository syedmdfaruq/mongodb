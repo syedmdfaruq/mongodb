{
  "nbformat": 4,
  "nbformat_minor": 0,
  "metadata": {
    "colab": {
      "name": "mongodb1.ipynb",
      "provenance": []
    },
    "kernelspec": {
      "name": "python3",
      "display_name": "Python 3"
    },
    "language_info": {
      "name": "python"
    }
  },
  "cells": [
    {
      "cell_type": "code",
      "source": [
        "!pip install dnspython\n",
        "!pip install pymongo[srv]"
      ],
      "metadata": {
        "id": "Mn8dPwbkFJQ1"
      },
      "execution_count": null,
      "outputs": []
    },
    {
      "cell_type": "code",
      "execution_count": null,
      "metadata": {
        "id": "WERVwnLoCH2N"
      },
      "outputs": [],
      "source": [
        "import pymongo\n",
        "client = pymongo.MongoClient(\"mongodb+srv://<username>:<password>@cluster0.kjtaz.mongodb.net/myFirstDatabase?retryWrites=true&w=majority\")\n",
        "db = client.studentsdb\n",
        "rec=db.studentscol"
      ]
    },
    {
      "cell_type": "code",
      "source": [
        "import json\n",
        "with open(\"students.json\",\"r\") as fyl:\n",
        "  a=[]\n",
        "  for i in fyl:\n",
        "    a.append(json.loads(i))"
      ],
      "metadata": {
        "id": "a_6DRpGKFGmj"
      },
      "execution_count": null,
      "outputs": []
    },
    {
      "cell_type": "code",
      "source": [
        "rec.insert_many(a)"
      ],
      "metadata": {
        "id": "noCrzODXJh12"
      },
      "execution_count": null,
      "outputs": []
    },
    {
      "cell_type": "code",
      "source": [
        "b=rec.aggregate(\n",
        "   [{\"$unwind\":\"$scores\"},\n",
        "     {\n",
        "       \"$group\":\n",
        "         {\"_id\":\"$scores.type\",\n",
        "          \"maxmark\":{\"$max\":\"$scores.score\"},\n",
        "         }\n",
        "     }\n",
        "   ]\n",
        ")\n",
        "for i in b:\n",
        "  c=i[\"_id\"]\n",
        "  d=i[\"maxmark\"]\n",
        "  for j in rec.find({\"scores.type\":c,\"scores.score\":d}):\n",
        "    print(j)"
      ],
      "metadata": {
        "id": "OM097OzJVTAz"
      },
      "execution_count": null,
      "outputs": []
    },
    {
      "cell_type": "code",
      "source": [
        "e=rec.aggregate(\n",
        "   [{\"$unwind\":\"$scores\"},\n",
        "     {\n",
        "       \"$group\":\n",
        "         {\"_id\":\"$_id\",\n",
        "          \"total\":{\"$sum\":\"$scores.score\"},\n",
        "         }\n",
        "     }\n",
        "   ]\n",
        ")\n",
        "f=0\n",
        "g=\"\"\n",
        "for i in e:\n",
        "  if i[\"total\"]>f:\n",
        "    f=i[\"total\"]\n",
        "    g=i[\"_id\"]\n",
        "for i in rec.find({\"_id\":g},{\"name\":1}):\n",
        "  print(i)"
      ],
      "metadata": {
        "id": "6KlyBd_2NTwq"
      },
      "execution_count": null,
      "outputs": []
    },
    {
      "cell_type": "code",
      "source": [
        "h=rec.aggregate(\n",
        "   [{\"$unwind\":\"$scores\"},{\"$match\":{\"scores.type\":\"exam\"}},\n",
        "     {\n",
        "       \"$group\":\n",
        "         {\"_id\":\"$scores.type\",\n",
        "           \"avgexam\": { \"$avg\": \"$scores.score\" }\n",
        "         }\n",
        "     }\n",
        "   ]\n",
        ")\n",
        "for i in h:\n",
        "  avg_exam=i[\"avgexam\"]\n",
        "for i in rec.find({\"scores.0.score\":{\"$gt\":40,\"$lt\":avg_exam}}):\n",
        "  print(i)"
      ],
      "metadata": {
        "id": "eWgW-susm2k_"
      },
      "execution_count": null,
      "outputs": []
    },
    {
      "cell_type": "code",
      "source": [
        "rec.update_many({\"$or\":[{\"scores.0.score\":{\"$lt\":40}},{\"scores.1.score\":{\"$lt\":40}},{\"scores.2.score\":{\"$lt\":40}}]},{\"$set\":{\"results\":\"fail\"}})"
      ],
      "metadata": {
        "id": "-C1t3J19OeJc"
      },
      "execution_count": null,
      "outputs": []
    },
    {
      "cell_type": "code",
      "source": [
        "rec.update_many({\"scores.0.score\":{\"$gt\":40},\"scores.1.score\":{\"$gt\":40},\"scores.2.score\":{\"$gt\":40}},{\"$set\":{\"results\":\"pass\"}})"
      ],
      "metadata": {
        "id": "xl6IvLIQS64Z"
      },
      "execution_count": null,
      "outputs": []
    },
    {
      "cell_type": "code",
      "source": [
        "tarec=db.totalaveragecol"
      ],
      "metadata": {
        "id": "oMINdFWghdn8"
      },
      "execution_count": null,
      "outputs": []
    },
    {
      "cell_type": "code",
      "source": [
        "ab=rec.aggregate(\n",
        "   [{\"$unwind\":\"$scores\"},\n",
        "     {\n",
        "       \"$group\":\n",
        "         {\"_id\":\"$scores.type\",\n",
        "          \"total\":{\"$sum\":\"$scores.score\"},\n",
        "           \"average\": { \"$avg\": \"$scores.score\" }\n",
        "         }\n",
        "     }\n",
        "   ]\n",
        ")"
      ],
      "metadata": {
        "id": "t7G6_YDLf1KK"
      },
      "execution_count": null,
      "outputs": []
    },
    {
      "cell_type": "code",
      "source": [
        "tarec.insert_many(ab)"
      ],
      "metadata": {
        "id": "nAc7I0Vcf2aL"
      },
      "execution_count": null,
      "outputs": []
    },
    {
      "cell_type": "code",
      "source": [
        "tasrec=db.totalaveragestudentscol"
      ],
      "metadata": {
        "id": "cV-cX67hiQfR"
      },
      "execution_count": null,
      "outputs": []
    },
    {
      "cell_type": "code",
      "source": [
        "cd=rec.aggregate(\n",
        "   [{\"$unwind\":\"$scores\"},\n",
        "     {\n",
        "       \"$group\":\n",
        "         {\"_id\":\"$_id\",\n",
        "          \"total\":{\"$sum\":\"$scores.score\"},\n",
        "           \"average\": { \"$avg\": \"$scores.score\" }\n",
        "         }\n",
        "     }\n",
        "   ]\n",
        ")"
      ],
      "metadata": {
        "id": "7NP83Z2XiROJ"
      },
      "execution_count": null,
      "outputs": []
    },
    {
      "cell_type": "code",
      "source": [
        "tasrec.insert_many(cd)"
      ],
      "metadata": {
        "id": "TpIkG8rsiRlK"
      },
      "execution_count": null,
      "outputs": []
    },
    {
      "cell_type": "code",
      "source": [
        "newrec=db.newcol"
      ],
      "metadata": {
        "id": "hkU7T_1Xoa86"
      },
      "execution_count": null,
      "outputs": []
    },
    {
      "cell_type": "code",
      "source": [
        "a1=rec.aggregate(\n",
        "   [{\"$unwind\":\"$scores\"},{\"$match\":{\"scores.type\":\"exam\"}},\n",
        "     {\n",
        "       \"$group\":\n",
        "         {\"_id\":\"$scores.type\",\n",
        "           \"avgexam\": { \"$avg\": \"$scores.score\" }\n",
        "         }\n",
        "     }\n",
        "   ]\n",
        ")\n",
        "for i in a1:\n",
        "  avg_exam=i[\"avgexam\"]\n",
        "b1=rec.aggregate(\n",
        "   [{\"$unwind\":\"$scores\"},{\"$match\":{\"scores.type\":\"quiz\"}},\n",
        "     {\n",
        "       \"$group\":\n",
        "         {\"_id\":\"$scores.type\",\n",
        "           \"avgquiz\": { \"$avg\": \"$scores.score\" }\n",
        "         }\n",
        "     }\n",
        "   ]\n",
        ")\n",
        "for i in b1:\n",
        "  avg_quiz=i[\"avgquiz\"]\n",
        "c1=rec.aggregate(\n",
        "   [{\"$unwind\":\"$scores\"},{\"$match\":{\"scores.type\":\"homework\"}},\n",
        "     {\n",
        "       \"$group\":\n",
        "         {\"_id\":\"$scores.type\",\n",
        "           \"avghomework\": { \"$avg\": \"$scores.score\" }\n",
        "         }\n",
        "     }\n",
        "   ]\n",
        ")\n",
        "for i in c1:\n",
        "  avg_homework=i[\"avghomework\"]\n",
        "abc=rec.find({\"scores.0.score\":{\"$gt\":40,\"$lt\":avg_exam},\"scores.1.score\":{\"$gt\":40,\"$lt\":avg_quiz},\"scores.2.score\":{\"$gt\":40,\"$lt\":avg_homework}})"
      ],
      "metadata": {
        "id": "cy-yzyWbZ5bl"
      },
      "execution_count": null,
      "outputs": []
    },
    {
      "cell_type": "code",
      "source": [
        "newrec.insert_many(abc)"
      ],
      "metadata": {
        "id": "iiUi_EK5pCbS"
      },
      "execution_count": null,
      "outputs": []
    },
    {
      "cell_type": "code",
      "source": [
        "failrec=db.failedsudentscol"
      ],
      "metadata": {
        "id": "fubiYhBPnhUC"
      },
      "execution_count": null,
      "outputs": []
    },
    {
      "cell_type": "code",
      "source": [
        "ef=rec.find({\"results\":\"fail\"})"
      ],
      "metadata": {
        "id": "NnAfwV35S-oA"
      },
      "execution_count": null,
      "outputs": []
    },
    {
      "cell_type": "code",
      "source": [
        "failrec.insert_many(ef)"
      ],
      "metadata": {
        "id": "tkbNI522ax9h"
      },
      "execution_count": null,
      "outputs": []
    },
    {
      "cell_type": "code",
      "source": [
        "passrec=db.passedstudentscol"
      ],
      "metadata": {
        "id": "2IeXTS50nrgB"
      },
      "execution_count": null,
      "outputs": []
    },
    {
      "cell_type": "code",
      "source": [
        "gh=rec.find({\"results\":\"pass\"})"
      ],
      "metadata": {
        "id": "2si_Kvb9cWIv"
      },
      "execution_count": null,
      "outputs": []
    },
    {
      "cell_type": "code",
      "source": [
        "passrec.insert_many(gh)"
      ],
      "metadata": {
        "id": "0IKYm3amdNqf"
      },
      "execution_count": null,
      "outputs": []
    }
  ]
}