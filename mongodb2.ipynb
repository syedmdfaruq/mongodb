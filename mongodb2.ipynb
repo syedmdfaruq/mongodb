{
  "nbformat": 4,
  "nbformat_minor": 0,
  "metadata": {
    "colab": {
      "name": "mongodb2.ipynb",
      "provenance": []
    },
    "kernelspec": {
      "name": "python3",
      "display_name": "Python 3"
    },
    "language_info": {
      "name": "python"
    }
  },
  "cells": [
    {
      "cell_type": "code",
      "execution_count": null,
      "metadata": {
        "id": "j-JOPagrtyZL"
      },
      "outputs": [],
      "source": [
        "!pip install dnspython\n",
        "!pip install pymongo[srv]"
      ]
    },
    {
      "cell_type": "code",
      "source": [
        "import pymongo\n",
        "client = pymongo.MongoClient(\"mongodb+srv://<username>:<password>@cluster0.kjtaz.mongodb.net/myFirstDatabase?retryWrites=true&w=majority\")\n",
        "db = client.telephonedirdb\n",
        "tedirec=db.telephonedircol"
      ],
      "metadata": {
        "id": "17NmlNDguSJZ"
      },
      "execution_count": null,
      "outputs": []
    },
    {
      "cell_type": "code",
      "source": [
        "tedirec.insert_one({\"Name\":\"name1\",\"Phone_number\":12345,\"Place\":\"place1\"})"
      ],
      "metadata": {
        "id": "qqz86yXgvkch"
      },
      "execution_count": null,
      "outputs": []
    },
    {
      "cell_type": "code",
      "source": [
        "tedirec.find_one({\"Name\":\"name1\"})"
      ],
      "metadata": {
        "id": "GtqTbrbRxtNp"
      },
      "execution_count": null,
      "outputs": []
    },
    {
      "cell_type": "code",
      "source": [
        "tedirec.update_one({\"Name\":\"name1\"},{\"$set\":{\"Name\":\"newname\"}})"
      ],
      "metadata": {
        "id": "V-Tn-Iydx8n4"
      },
      "execution_count": null,
      "outputs": []
    },
    {
      "cell_type": "code",
      "source": [
        "tedirec.delete_one({\"Name\":\"newname\"})"
      ],
      "metadata": {
        "id": "8lmTsDg9zqkK"
      },
      "execution_count": null,
      "outputs": []
    }
  ]
}